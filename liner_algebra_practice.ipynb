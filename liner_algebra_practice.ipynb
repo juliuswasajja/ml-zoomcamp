{
  "metadata": {
    "kernelspec": {
      "language": "python",
      "display_name": "Python 3",
      "name": "python3"
    },
    "language_info": {
      "name": "python",
      "version": "3.10.14",
      "mimetype": "text/x-python",
      "codemirror_mode": {
        "name": "ipython",
        "version": 3
      },
      "pygments_lexer": "ipython3",
      "nbconvert_exporter": "python",
      "file_extension": ".py"
    },
    "kaggle": {
      "accelerator": "none",
      "dataSources": [],
      "dockerImageVersionId": 30761,
      "isInternetEnabled": false,
      "language": "python",
      "sourceType": "notebook",
      "isGpuEnabled": false
    },
    "colab": {
      "name": "liner-algebra-practice",
      "provenance": [],
      "include_colab_link": true
    }
  },
  "nbformat_minor": 0,
  "nbformat": 4,
  "cells": [
    {
      "cell_type": "markdown",
      "metadata": {
        "id": "view-in-github",
        "colab_type": "text"
      },
      "source": [
        "<a href=\"https://colab.research.google.com/github/juliuswasajja/ml-zoomcamp/blob/main/liner_algebra_practice.ipynb\" target=\"_parent\"><img src=\"https://colab.research.google.com/assets/colab-badge.svg\" alt=\"Open In Colab\"/></a>"
      ]
    },
    {
      "cell_type": "markdown",
      "source": [
        "### Vector_Vector multiplications"
      ],
      "metadata": {
        "id": "KQsq4sv43nP0"
      }
    },
    {
      "cell_type": "code",
      "source": [
        "import numpy as np\n",
        "\n",
        "u = np.array([2,4,6,8])\n",
        "\n",
        "v = np.array([1,3,9,11])"
      ],
      "metadata": {
        "_uuid": "8f2839f25d086af736a60e9eeb907d3b93b6e0e5",
        "_cell_guid": "b1076dfc-b9ad-4769-8c92-a6c4dae69d19",
        "execution": {
          "iopub.status.busy": "2024-08-24T09:29:47.702805Z",
          "iopub.execute_input": "2024-08-24T09:29:47.703205Z",
          "iopub.status.idle": "2024-08-24T09:29:47.70916Z",
          "shell.execute_reply.started": "2024-08-24T09:29:47.70317Z",
          "shell.execute_reply": "2024-08-24T09:29:47.708018Z"
        },
        "trusted": true,
        "id": "wNPVBLgf3nP2"
      },
      "execution_count": null,
      "outputs": []
    },
    {
      "cell_type": "code",
      "source": [
        "def vector_vector_multiplication(u, v):\n",
        "    assert u.shape[0] == v.shape[0]\n",
        "\n",
        "    num_rows = u.shape[0]\n",
        "\n",
        "    result = 0.0\n",
        "\n",
        "    for i in range (num_rows):\n",
        "\n",
        "        vi = u[i]*v[i]\n",
        "\n",
        "        result = result + vi\n",
        "\n",
        "    return result\n",
        "\n",
        ""
      ],
      "metadata": {
        "execution": {
          "iopub.status.busy": "2024-08-24T09:36:00.183545Z",
          "iopub.execute_input": "2024-08-24T09:36:00.183964Z",
          "iopub.status.idle": "2024-08-24T09:36:00.19038Z",
          "shell.execute_reply.started": "2024-08-24T09:36:00.183923Z",
          "shell.execute_reply": "2024-08-24T09:36:00.189176Z"
        },
        "trusted": true,
        "id": "b0AAKmgU3nP2"
      },
      "execution_count": null,
      "outputs": []
    },
    {
      "cell_type": "code",
      "source": [
        "vector_vector_multiplication(u,v)"
      ],
      "metadata": {
        "execution": {
          "iopub.status.busy": "2024-08-24T09:36:03.955116Z",
          "iopub.execute_input": "2024-08-24T09:36:03.955554Z",
          "iopub.status.idle": "2024-08-24T09:36:03.963008Z",
          "shell.execute_reply.started": "2024-08-24T09:36:03.955517Z",
          "shell.execute_reply": "2024-08-24T09:36:03.961792Z"
        },
        "trusted": true,
        "id": "ijV37ycL3nP2"
      },
      "execution_count": null,
      "outputs": []
    },
    {
      "cell_type": "code",
      "source": [
        "u.dot(v)"
      ],
      "metadata": {
        "execution": {
          "iopub.status.busy": "2024-08-24T09:36:16.842516Z",
          "iopub.execute_input": "2024-08-24T09:36:16.842935Z",
          "iopub.status.idle": "2024-08-24T09:36:16.851042Z",
          "shell.execute_reply.started": "2024-08-24T09:36:16.842894Z",
          "shell.execute_reply": "2024-08-24T09:36:16.849575Z"
        },
        "trusted": true,
        "id": "HTOxgjkh3nP3"
      },
      "execution_count": null,
      "outputs": []
    },
    {
      "cell_type": "markdown",
      "source": [
        "### Matrix_Vector multiplication"
      ],
      "metadata": {
        "id": "ScCuzn8x3nP3"
      }
    },
    {
      "cell_type": "code",
      "source": [
        "U = np.array([\n",
        "            [1,2,3,4],\n",
        "            [5,6,7,8,],\n",
        "            [9,10,11,12],\n",
        "            [13,14,15,16]\n",
        "             ])\n",
        "\n",
        "v = np.array ([10,15,20,25])"
      ],
      "metadata": {
        "execution": {
          "iopub.status.busy": "2024-08-24T09:48:05.297588Z",
          "iopub.execute_input": "2024-08-24T09:48:05.298092Z",
          "iopub.status.idle": "2024-08-24T09:48:05.304369Z",
          "shell.execute_reply.started": "2024-08-24T09:48:05.298051Z",
          "shell.execute_reply": "2024-08-24T09:48:05.303179Z"
        },
        "trusted": true,
        "id": "FVHu9hXa3nP3"
      },
      "execution_count": null,
      "outputs": []
    },
    {
      "cell_type": "code",
      "source": [
        "def matrix_vector_mutliplication (U,v):\n",
        "    assert U.shape[1] == v.shape[0]\n",
        "\n",
        "    num_rows = U.shape[0]\n",
        "\n",
        "    result = np.zeros(num_rows)\n",
        "\n",
        "    for i in range (num_rows):\n",
        "        result[i] = vector_vector_multiplication (U[i], v)\n",
        "\n",
        "    return result"
      ],
      "metadata": {
        "execution": {
          "iopub.status.busy": "2024-08-24T09:45:26.910298Z",
          "iopub.execute_input": "2024-08-24T09:45:26.910728Z",
          "iopub.status.idle": "2024-08-24T09:45:26.917274Z",
          "shell.execute_reply.started": "2024-08-24T09:45:26.910692Z",
          "shell.execute_reply": "2024-08-24T09:45:26.916027Z"
        },
        "trusted": true,
        "id": "raDYDq5s3nP3"
      },
      "execution_count": null,
      "outputs": []
    },
    {
      "cell_type": "code",
      "source": [
        "matrix_vector_mutliplication (U,v)"
      ],
      "metadata": {
        "execution": {
          "iopub.status.busy": "2024-08-24T09:48:26.018037Z",
          "iopub.execute_input": "2024-08-24T09:48:26.018496Z",
          "iopub.status.idle": "2024-08-24T09:48:26.027488Z",
          "shell.execute_reply.started": "2024-08-24T09:48:26.018449Z",
          "shell.execute_reply": "2024-08-24T09:48:26.025975Z"
        },
        "trusted": true,
        "id": "f0iR83LC3nP3"
      },
      "execution_count": null,
      "outputs": []
    },
    {
      "cell_type": "code",
      "source": [
        "U.dot(v)"
      ],
      "metadata": {
        "execution": {
          "iopub.status.busy": "2024-08-24T09:48:43.01124Z",
          "iopub.execute_input": "2024-08-24T09:48:43.011684Z",
          "iopub.status.idle": "2024-08-24T09:48:43.019539Z",
          "shell.execute_reply.started": "2024-08-24T09:48:43.011642Z",
          "shell.execute_reply": "2024-08-24T09:48:43.01823Z"
        },
        "trusted": true,
        "id": "7FISo8Rr3nP3"
      },
      "execution_count": null,
      "outputs": []
    },
    {
      "cell_type": "markdown",
      "source": [
        "### Matrix_Matrix multiplication"
      ],
      "metadata": {
        "id": "WFjifdce3nP3"
      }
    },
    {
      "cell_type": "code",
      "source": [
        "V = np.array([\n",
        "    [2,4],\n",
        "    [5,7],\n",
        "    [8,10],\n",
        "    [11,13],\n",
        "])\n",
        "\n",
        "V"
      ],
      "metadata": {
        "execution": {
          "iopub.status.busy": "2024-08-24T10:01:16.925961Z",
          "iopub.execute_input": "2024-08-24T10:01:16.926417Z",
          "iopub.status.idle": "2024-08-24T10:01:16.935778Z",
          "shell.execute_reply.started": "2024-08-24T10:01:16.926374Z",
          "shell.execute_reply": "2024-08-24T10:01:16.934669Z"
        },
        "trusted": true,
        "id": "J0lq3RwS3nP4"
      },
      "execution_count": null,
      "outputs": []
    },
    {
      "cell_type": "code",
      "source": [
        "def matrix_matrix_multiplication (U,V):\n",
        "    assert U.shape[1] == V.shape[0]\n",
        "\n",
        "    num_rows = U.shape[0]\n",
        "    num_cols = V.shape[1]\n",
        "\n",
        "    result = np.zeros((num_rows,num_cols))\n",
        "\n",
        "    for i in range (num_cols):\n",
        "        vi = V[:,i]\n",
        "        Uvi = matrix_vector_mutliplication(U,vi)\n",
        "        result[:,i] = Uvi\n",
        "\n",
        "    return result"
      ],
      "metadata": {
        "execution": {
          "iopub.status.busy": "2024-08-24T10:03:52.445921Z",
          "iopub.execute_input": "2024-08-24T10:03:52.446401Z",
          "iopub.status.idle": "2024-08-24T10:03:52.453131Z",
          "shell.execute_reply.started": "2024-08-24T10:03:52.446359Z",
          "shell.execute_reply": "2024-08-24T10:03:52.451965Z"
        },
        "trusted": true,
        "id": "irxWvWh33nP4"
      },
      "execution_count": null,
      "outputs": []
    },
    {
      "cell_type": "code",
      "source": [
        "matrix_matrix_multiplication (U,V)"
      ],
      "metadata": {
        "execution": {
          "iopub.status.busy": "2024-08-24T10:03:55.78445Z",
          "iopub.execute_input": "2024-08-24T10:03:55.784845Z",
          "iopub.status.idle": "2024-08-24T10:03:55.792725Z",
          "shell.execute_reply.started": "2024-08-24T10:03:55.784809Z",
          "shell.execute_reply": "2024-08-24T10:03:55.791602Z"
        },
        "trusted": true,
        "id": "ONzuRNWK3nP4"
      },
      "execution_count": null,
      "outputs": []
    },
    {
      "cell_type": "code",
      "source": [
        "U.dot(V)"
      ],
      "metadata": {
        "execution": {
          "iopub.status.busy": "2024-08-24T10:04:08.918065Z",
          "iopub.execute_input": "2024-08-24T10:04:08.918488Z",
          "iopub.status.idle": "2024-08-24T10:04:08.92596Z",
          "shell.execute_reply.started": "2024-08-24T10:04:08.91845Z",
          "shell.execute_reply": "2024-08-24T10:04:08.924725Z"
        },
        "trusted": true,
        "id": "cIzl1Gqr3nP4"
      },
      "execution_count": null,
      "outputs": []
    }
  ]
}