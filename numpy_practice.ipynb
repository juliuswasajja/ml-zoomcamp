{
  "metadata": {
    "kernelspec": {
      "language": "python",
      "display_name": "Python 3",
      "name": "python3"
    },
    "language_info": {
      "name": "python",
      "version": "3.10.14",
      "mimetype": "text/x-python",
      "codemirror_mode": {
        "name": "ipython",
        "version": 3
      },
      "pygments_lexer": "ipython3",
      "nbconvert_exporter": "python",
      "file_extension": ".py"
    },
    "kaggle": {
      "accelerator": "none",
      "dataSources": [],
      "dockerImageVersionId": 30761,
      "isInternetEnabled": false,
      "language": "python",
      "sourceType": "notebook",
      "isGpuEnabled": false
    },
    "colab": {
      "name": "numpy-practice",
      "provenance": [],
      "include_colab_link": true
    }
  },
  "nbformat_minor": 0,
  "nbformat": 4,
  "cells": [
    {
      "cell_type": "markdown",
      "metadata": {
        "id": "view-in-github",
        "colab_type": "text"
      },
      "source": [
        "<a href=\"https://colab.research.google.com/github/juliuswasajja/ml-zoomcamp/blob/main/numpy_practice.ipynb\" target=\"_parent\"><img src=\"https://colab.research.google.com/assets/colab-badge.svg\" alt=\"Open In Colab\"/></a>"
      ]
    },
    {
      "cell_type": "code",
      "source": [
        "import numpy as np"
      ],
      "metadata": {
        "execution": {
          "iopub.status.busy": "2024-08-24T06:56:17.793785Z",
          "iopub.execute_input": "2024-08-24T06:56:17.79454Z",
          "iopub.status.idle": "2024-08-24T06:56:17.799597Z",
          "shell.execute_reply.started": "2024-08-24T06:56:17.794497Z",
          "shell.execute_reply": "2024-08-24T06:56:17.798462Z"
        },
        "trusted": true,
        "id": "LjF21UcE4HdE"
      },
      "execution_count": null,
      "outputs": []
    },
    {
      "cell_type": "markdown",
      "source": [],
      "metadata": {
        "id": "L6R_EC4L4HdF"
      }
    },
    {
      "cell_type": "markdown",
      "source": [
        "## Creating arrays"
      ],
      "metadata": {
        "id": "aZ1S09v74HdG"
      }
    },
    {
      "cell_type": "code",
      "source": [
        "np.zeros(5)"
      ],
      "metadata": {
        "execution": {
          "iopub.status.busy": "2024-08-24T06:56:17.80173Z",
          "iopub.execute_input": "2024-08-24T06:56:17.802203Z",
          "iopub.status.idle": "2024-08-24T06:56:17.816116Z",
          "shell.execute_reply.started": "2024-08-24T06:56:17.802149Z",
          "shell.execute_reply": "2024-08-24T06:56:17.81481Z"
        },
        "trusted": true,
        "id": "KcAt_Ecs4HdG",
        "outputId": "7d9ade05-7aea-4ea3-f83d-912d399057c5"
      },
      "execution_count": null,
      "outputs": [
        {
          "execution_count": 4,
          "output_type": "execute_result",
          "data": {
            "text/plain": "array([0., 0., 0., 0., 0.])"
          },
          "metadata": {}
        }
      ]
    },
    {
      "cell_type": "code",
      "source": [
        "np.ones(6)"
      ],
      "metadata": {
        "execution": {
          "iopub.status.busy": "2024-08-24T06:56:17.818115Z",
          "iopub.execute_input": "2024-08-24T06:56:17.81858Z",
          "iopub.status.idle": "2024-08-24T06:56:17.83022Z",
          "shell.execute_reply.started": "2024-08-24T06:56:17.818529Z",
          "shell.execute_reply": "2024-08-24T06:56:17.82906Z"
        },
        "trusted": true,
        "id": "208_PkgR4HdG",
        "outputId": "a0133c00-e6fd-4a43-d1fd-2648fb659f7d"
      },
      "execution_count": null,
      "outputs": [
        {
          "execution_count": 5,
          "output_type": "execute_result",
          "data": {
            "text/plain": "array([1., 1., 1., 1., 1., 1.])"
          },
          "metadata": {}
        }
      ]
    },
    {
      "cell_type": "code",
      "source": [
        "np.full(10,6.3)"
      ],
      "metadata": {
        "execution": {
          "iopub.status.busy": "2024-08-24T06:56:17.831421Z",
          "iopub.execute_input": "2024-08-24T06:56:17.831795Z",
          "iopub.status.idle": "2024-08-24T06:56:17.841904Z",
          "shell.execute_reply.started": "2024-08-24T06:56:17.831752Z",
          "shell.execute_reply": "2024-08-24T06:56:17.840822Z"
        },
        "trusted": true,
        "id": "fkNZNwud4HdH",
        "outputId": "4ca7ea7c-bde3-4893-f154-505843bce16d"
      },
      "execution_count": null,
      "outputs": [
        {
          "execution_count": 6,
          "output_type": "execute_result",
          "data": {
            "text/plain": "array([6.3, 6.3, 6.3, 6.3, 6.3, 6.3, 6.3, 6.3, 6.3, 6.3])"
          },
          "metadata": {}
        }
      ]
    },
    {
      "cell_type": "markdown",
      "source": [
        "## Create array from a list"
      ],
      "metadata": {
        "id": "TSDLZG4l4HdH"
      }
    },
    {
      "cell_type": "code",
      "source": [
        "a = np.array([1,3,4,5,7])"
      ],
      "metadata": {
        "execution": {
          "iopub.status.busy": "2024-08-24T06:56:17.844359Z",
          "iopub.execute_input": "2024-08-24T06:56:17.844723Z",
          "iopub.status.idle": "2024-08-24T06:56:17.851644Z",
          "shell.execute_reply.started": "2024-08-24T06:56:17.844683Z",
          "shell.execute_reply": "2024-08-24T06:56:17.85062Z"
        },
        "trusted": true,
        "id": "7X8RDkRM4HdH"
      },
      "execution_count": null,
      "outputs": []
    },
    {
      "cell_type": "markdown",
      "source": [
        "### Accessing elements"
      ],
      "metadata": {
        "id": "StMhsxzt4HdH"
      }
    },
    {
      "cell_type": "code",
      "source": [
        "a[3]"
      ],
      "metadata": {
        "execution": {
          "iopub.status.busy": "2024-08-24T06:56:17.853126Z",
          "iopub.execute_input": "2024-08-24T06:56:17.854056Z",
          "iopub.status.idle": "2024-08-24T06:56:17.864171Z",
          "shell.execute_reply.started": "2024-08-24T06:56:17.854011Z",
          "shell.execute_reply": "2024-08-24T06:56:17.863039Z"
        },
        "trusted": true,
        "id": "dkb8ytFZ4HdH",
        "outputId": "79d8d61b-f7bc-402f-db4a-af77ddb1e88a"
      },
      "execution_count": null,
      "outputs": [
        {
          "execution_count": 8,
          "output_type": "execute_result",
          "data": {
            "text/plain": "5"
          },
          "metadata": {}
        }
      ]
    },
    {
      "cell_type": "code",
      "source": [
        "np.arange(2,10,.5)"
      ],
      "metadata": {
        "execution": {
          "iopub.status.busy": "2024-08-24T06:56:17.865659Z",
          "iopub.execute_input": "2024-08-24T06:56:17.866066Z",
          "iopub.status.idle": "2024-08-24T06:56:17.877207Z",
          "shell.execute_reply.started": "2024-08-24T06:56:17.866028Z",
          "shell.execute_reply": "2024-08-24T06:56:17.876164Z"
        },
        "trusted": true,
        "id": "qp1H6mI24HdH",
        "outputId": "c9687803-de06-401c-ec9e-f16557e30b0e"
      },
      "execution_count": null,
      "outputs": [
        {
          "execution_count": 9,
          "output_type": "execute_result",
          "data": {
            "text/plain": "array([2. , 2.5, 3. , 3.5, 4. , 4.5, 5. , 5.5, 6. , 6.5, 7. , 7.5, 8. ,\n       8.5, 9. , 9.5])"
          },
          "metadata": {}
        }
      ]
    },
    {
      "cell_type": "code",
      "source": [
        "np.linspace(3,4,10)"
      ],
      "metadata": {
        "execution": {
          "iopub.status.busy": "2024-08-24T06:56:17.87843Z",
          "iopub.execute_input": "2024-08-24T06:56:17.878806Z",
          "iopub.status.idle": "2024-08-24T06:56:17.888404Z",
          "shell.execute_reply.started": "2024-08-24T06:56:17.878757Z",
          "shell.execute_reply": "2024-08-24T06:56:17.887387Z"
        },
        "trusted": true,
        "id": "El8Umhuh4HdH",
        "outputId": "84b3e808-1572-40ac-855b-ac6d5d63a6b2"
      },
      "execution_count": null,
      "outputs": [
        {
          "execution_count": 10,
          "output_type": "execute_result",
          "data": {
            "text/plain": "array([3.        , 3.11111111, 3.22222222, 3.33333333, 3.44444444,\n       3.55555556, 3.66666667, 3.77777778, 3.88888889, 4.        ])"
          },
          "metadata": {}
        }
      ]
    },
    {
      "cell_type": "markdown",
      "source": [
        "## Multidimensional Array"
      ],
      "metadata": {
        "id": "feP5adWz4HdH"
      }
    },
    {
      "cell_type": "code",
      "source": [
        "np.zeros((6,2))"
      ],
      "metadata": {
        "execution": {
          "iopub.status.busy": "2024-08-24T06:56:17.889763Z",
          "iopub.execute_input": "2024-08-24T06:56:17.890318Z",
          "iopub.status.idle": "2024-08-24T06:56:17.90084Z",
          "shell.execute_reply.started": "2024-08-24T06:56:17.89028Z",
          "shell.execute_reply": "2024-08-24T06:56:17.899793Z"
        },
        "trusted": true,
        "id": "1-_LmCHi4HdH",
        "outputId": "9e2d7ace-2ff6-48a9-884b-ff2ee7829f70"
      },
      "execution_count": null,
      "outputs": [
        {
          "execution_count": 11,
          "output_type": "execute_result",
          "data": {
            "text/plain": "array([[0., 0.],\n       [0., 0.],\n       [0., 0.],\n       [0., 0.],\n       [0., 0.],\n       [0., 0.]])"
          },
          "metadata": {}
        }
      ]
    },
    {
      "cell_type": "code",
      "source": [
        "n = np.array ([\n",
        "        [1,2,3],\n",
        "         [4,5,6],\n",
        "         [7,8,9]\n",
        "])"
      ],
      "metadata": {
        "execution": {
          "iopub.status.busy": "2024-08-24T06:56:17.902788Z",
          "iopub.execute_input": "2024-08-24T06:56:17.903292Z",
          "iopub.status.idle": "2024-08-24T06:56:17.909155Z",
          "shell.execute_reply.started": "2024-08-24T06:56:17.903242Z",
          "shell.execute_reply": "2024-08-24T06:56:17.908244Z"
        },
        "trusted": true,
        "id": "x6O5dxHJ4HdI"
      },
      "execution_count": null,
      "outputs": []
    },
    {
      "cell_type": "code",
      "source": [
        "n"
      ],
      "metadata": {
        "execution": {
          "iopub.status.busy": "2024-08-24T06:56:17.911624Z",
          "iopub.execute_input": "2024-08-24T06:56:17.912118Z",
          "iopub.status.idle": "2024-08-24T06:56:17.921678Z",
          "shell.execute_reply.started": "2024-08-24T06:56:17.912076Z",
          "shell.execute_reply": "2024-08-24T06:56:17.920674Z"
        },
        "trusted": true,
        "id": "0wLj1p1s4HdI",
        "outputId": "17aa098c-abbc-4658-d913-28142d45e546"
      },
      "execution_count": null,
      "outputs": [
        {
          "execution_count": 13,
          "output_type": "execute_result",
          "data": {
            "text/plain": "array([[1, 2, 3],\n       [4, 5, 6],\n       [7, 8, 9]])"
          },
          "metadata": {}
        }
      ]
    },
    {
      "cell_type": "code",
      "source": [
        "n[1,1] = 40"
      ],
      "metadata": {
        "execution": {
          "iopub.status.busy": "2024-08-24T06:56:17.922896Z",
          "iopub.execute_input": "2024-08-24T06:56:17.923234Z",
          "iopub.status.idle": "2024-08-24T06:56:17.931833Z",
          "shell.execute_reply.started": "2024-08-24T06:56:17.923198Z",
          "shell.execute_reply": "2024-08-24T06:56:17.93068Z"
        },
        "trusted": true,
        "id": "dUx1YjnS4HdI"
      },
      "execution_count": null,
      "outputs": []
    },
    {
      "cell_type": "code",
      "source": [
        "n"
      ],
      "metadata": {
        "execution": {
          "iopub.status.busy": "2024-08-24T06:56:18.006468Z",
          "iopub.execute_input": "2024-08-24T06:56:18.00692Z",
          "iopub.status.idle": "2024-08-24T06:56:18.014114Z",
          "shell.execute_reply.started": "2024-08-24T06:56:18.006876Z",
          "shell.execute_reply": "2024-08-24T06:56:18.012914Z"
        },
        "trusted": true,
        "id": "Ij2q7PId4HdI",
        "outputId": "c00a4c5a-99a9-4c3b-805e-5199c0848161"
      },
      "execution_count": null,
      "outputs": [
        {
          "execution_count": 15,
          "output_type": "execute_result",
          "data": {
            "text/plain": "array([[ 1,  2,  3],\n       [ 4, 40,  6],\n       [ 7,  8,  9]])"
          },
          "metadata": {}
        }
      ]
    },
    {
      "cell_type": "code",
      "source": [
        "n[1]"
      ],
      "metadata": {
        "execution": {
          "iopub.status.busy": "2024-08-24T06:56:18.016271Z",
          "iopub.execute_input": "2024-08-24T06:56:18.01661Z",
          "iopub.status.idle": "2024-08-24T06:56:18.024147Z",
          "shell.execute_reply.started": "2024-08-24T06:56:18.016572Z",
          "shell.execute_reply": "2024-08-24T06:56:18.023166Z"
        },
        "trusted": true,
        "id": "byIqRQDp4HdI",
        "outputId": "046f594a-88ca-4059-a8d0-95762b2c7429"
      },
      "execution_count": null,
      "outputs": [
        {
          "execution_count": 16,
          "output_type": "execute_result",
          "data": {
            "text/plain": "array([ 4, 40,  6])"
          },
          "metadata": {}
        }
      ]
    },
    {
      "cell_type": "code",
      "source": [
        "n[:,2] = [10,20,30]"
      ],
      "metadata": {
        "execution": {
          "iopub.status.busy": "2024-08-24T06:56:18.025412Z",
          "iopub.execute_input": "2024-08-24T06:56:18.025805Z",
          "iopub.status.idle": "2024-08-24T06:56:18.033421Z",
          "shell.execute_reply.started": "2024-08-24T06:56:18.025758Z",
          "shell.execute_reply": "2024-08-24T06:56:18.032484Z"
        },
        "trusted": true,
        "id": "pQGxCwgD4HdI"
      },
      "execution_count": null,
      "outputs": []
    },
    {
      "cell_type": "code",
      "source": [
        "n"
      ],
      "metadata": {
        "execution": {
          "iopub.status.busy": "2024-08-24T06:56:18.034619Z",
          "iopub.execute_input": "2024-08-24T06:56:18.035052Z",
          "iopub.status.idle": "2024-08-24T06:56:18.045123Z",
          "shell.execute_reply.started": "2024-08-24T06:56:18.035016Z",
          "shell.execute_reply": "2024-08-24T06:56:18.044125Z"
        },
        "trusted": true,
        "id": "fFj0slKk4HdI",
        "outputId": "2fc9e57c-6318-4a10-be5c-5fa61d5cd888"
      },
      "execution_count": null,
      "outputs": [
        {
          "execution_count": 18,
          "output_type": "execute_result",
          "data": {
            "text/plain": "array([[ 1,  2, 10],\n       [ 4, 40, 20],\n       [ 7,  8, 30]])"
          },
          "metadata": {}
        }
      ]
    },
    {
      "cell_type": "code",
      "source": [
        "np.random.seed(3)\n",
        "np.random.rand(3,3) * 100"
      ],
      "metadata": {
        "execution": {
          "iopub.status.busy": "2024-08-24T06:56:18.047635Z",
          "iopub.execute_input": "2024-08-24T06:56:18.047992Z",
          "iopub.status.idle": "2024-08-24T06:56:18.056653Z",
          "shell.execute_reply.started": "2024-08-24T06:56:18.047954Z",
          "shell.execute_reply": "2024-08-24T06:56:18.055693Z"
        },
        "trusted": true,
        "id": "vXYuLw0d4HdI",
        "outputId": "884291f0-8d58-4f87-8b8c-9429c1e87713"
      },
      "execution_count": null,
      "outputs": [
        {
          "execution_count": 19,
          "output_type": "execute_result",
          "data": {
            "text/plain": "array([[55.07979026, 70.81478226, 29.09047389],\n       [51.08276052, 89.29469543, 89.62930889],\n       [12.55853105, 20.72428781,  5.14672033]])"
          },
          "metadata": {}
        }
      ]
    },
    {
      "cell_type": "code",
      "source": [
        "np.random.seed(3)\n",
        "np.random.randn(3,3) * 100"
      ],
      "metadata": {
        "execution": {
          "iopub.status.busy": "2024-08-24T06:56:18.057982Z",
          "iopub.execute_input": "2024-08-24T06:56:18.058338Z",
          "iopub.status.idle": "2024-08-24T06:56:18.068552Z",
          "shell.execute_reply.started": "2024-08-24T06:56:18.058302Z",
          "shell.execute_reply": "2024-08-24T06:56:18.067541Z"
        },
        "trusted": true,
        "id": "7zta1jwM4HdJ",
        "outputId": "33271f37-0620-48b1-a895-11527dee73c6"
      },
      "execution_count": null,
      "outputs": [
        {
          "execution_count": 20,
          "output_type": "execute_result",
          "data": {
            "text/plain": "array([[ 178.86284734,   43.65098505,    9.64974681],\n       [-186.34927034,  -27.73882025,  -35.47589793],\n       [  -8.27414815,  -62.70006768,   -4.3818169 ]])"
          },
          "metadata": {}
        }
      ]
    },
    {
      "cell_type": "code",
      "source": [
        "np.random.seed(3)\n",
        "np.random.randint(low=10,high=100, size=(3,3))"
      ],
      "metadata": {
        "execution": {
          "iopub.status.busy": "2024-08-24T06:56:18.069988Z",
          "iopub.execute_input": "2024-08-24T06:56:18.070965Z",
          "iopub.status.idle": "2024-08-24T06:56:18.080505Z",
          "shell.execute_reply.started": "2024-08-24T06:56:18.070913Z",
          "shell.execute_reply": "2024-08-24T06:56:18.079558Z"
        },
        "trusted": true,
        "id": "3Xl1miQd4HdJ",
        "outputId": "16008d54-50c0-4d9b-f59e-eed9ea421711"
      },
      "execution_count": null,
      "outputs": [
        {
          "execution_count": 21,
          "output_type": "execute_result",
          "data": {
            "text/plain": "array([[34, 13, 66],\n       [82, 10, 31],\n       [29, 84, 51]])"
          },
          "metadata": {}
        }
      ]
    },
    {
      "cell_type": "code",
      "source": [
        "b = np.arange(5)\n",
        "b"
      ],
      "metadata": {
        "execution": {
          "iopub.status.busy": "2024-08-24T06:56:18.081876Z",
          "iopub.execute_input": "2024-08-24T06:56:18.082528Z",
          "iopub.status.idle": "2024-08-24T06:56:18.092228Z",
          "shell.execute_reply.started": "2024-08-24T06:56:18.082477Z",
          "shell.execute_reply": "2024-08-24T06:56:18.09127Z"
        },
        "trusted": true,
        "id": "0XPYxk7M4HdJ",
        "outputId": "96e961ee-0905-4884-a6c0-6981e5413ef3"
      },
      "execution_count": null,
      "outputs": [
        {
          "execution_count": 22,
          "output_type": "execute_result",
          "data": {
            "text/plain": "array([0, 1, 2, 3, 4])"
          },
          "metadata": {}
        }
      ]
    },
    {
      "cell_type": "markdown",
      "source": [
        "### Element wise operations"
      ],
      "metadata": {
        "id": "u6ShOBsj4HdJ"
      }
    },
    {
      "cell_type": "code",
      "source": [
        "b"
      ],
      "metadata": {
        "execution": {
          "iopub.status.busy": "2024-08-24T06:56:18.093491Z",
          "iopub.execute_input": "2024-08-24T06:56:18.093862Z",
          "iopub.status.idle": "2024-08-24T06:56:18.103762Z",
          "shell.execute_reply.started": "2024-08-24T06:56:18.093826Z",
          "shell.execute_reply": "2024-08-24T06:56:18.102555Z"
        },
        "trusted": true,
        "id": "J9qMPFbL4HdJ",
        "outputId": "cec34ad6-fd52-4204-c54c-e42213ce9f6e"
      },
      "execution_count": null,
      "outputs": [
        {
          "execution_count": 23,
          "output_type": "execute_result",
          "data": {
            "text/plain": "array([0, 1, 2, 3, 4])"
          },
          "metadata": {}
        }
      ]
    },
    {
      "cell_type": "code",
      "source": [
        "a = np.array([12, 13, 14, 15, 16])\n",
        "a"
      ],
      "metadata": {
        "execution": {
          "iopub.status.busy": "2024-08-24T06:56:18.105082Z",
          "iopub.execute_input": "2024-08-24T06:56:18.105502Z",
          "iopub.status.idle": "2024-08-24T06:56:18.115295Z",
          "shell.execute_reply.started": "2024-08-24T06:56:18.105452Z",
          "shell.execute_reply": "2024-08-24T06:56:18.114236Z"
        },
        "trusted": true,
        "id": "T1KfqspF4HdJ",
        "outputId": "7c77598b-00f4-4ef4-a7ce-f613a5331318"
      },
      "execution_count": null,
      "outputs": [
        {
          "execution_count": 24,
          "output_type": "execute_result",
          "data": {
            "text/plain": "array([12, 13, 14, 15, 16])"
          },
          "metadata": {}
        }
      ]
    },
    {
      "cell_type": "code",
      "source": [
        "b*a"
      ],
      "metadata": {
        "execution": {
          "iopub.status.busy": "2024-08-24T06:56:18.116824Z",
          "iopub.execute_input": "2024-08-24T06:56:18.117176Z",
          "iopub.status.idle": "2024-08-24T06:56:18.126973Z",
          "shell.execute_reply.started": "2024-08-24T06:56:18.117135Z",
          "shell.execute_reply": "2024-08-24T06:56:18.125898Z"
        },
        "trusted": true,
        "id": "RLdgnQIK4HdJ",
        "outputId": "a662365f-2c24-4f14-c180-dea8ca214476"
      },
      "execution_count": null,
      "outputs": [
        {
          "execution_count": 25,
          "output_type": "execute_result",
          "data": {
            "text/plain": "array([ 0, 13, 28, 45, 64])"
          },
          "metadata": {}
        }
      ]
    },
    {
      "cell_type": "markdown",
      "source": [
        "### Comparison elements"
      ],
      "metadata": {
        "id": "yFxwb09K4HdJ"
      }
    },
    {
      "cell_type": "code",
      "source": [
        "(a >= 13.5)"
      ],
      "metadata": {
        "execution": {
          "iopub.status.busy": "2024-08-24T06:56:18.128198Z",
          "iopub.execute_input": "2024-08-24T06:56:18.128544Z",
          "iopub.status.idle": "2024-08-24T06:56:18.140113Z",
          "shell.execute_reply.started": "2024-08-24T06:56:18.128509Z",
          "shell.execute_reply": "2024-08-24T06:56:18.139025Z"
        },
        "trusted": true,
        "id": "SQw0TSha4HdJ",
        "outputId": "a5d7c4a3-1fb1-4b90-f3a8-56ade500b8dc"
      },
      "execution_count": null,
      "outputs": [
        {
          "execution_count": 26,
          "output_type": "execute_result",
          "data": {
            "text/plain": "array([False, False,  True,  True,  True])"
          },
          "metadata": {}
        }
      ]
    },
    {
      "cell_type": "code",
      "source": [
        "b > a"
      ],
      "metadata": {
        "execution": {
          "iopub.status.busy": "2024-08-24T06:56:18.141806Z",
          "iopub.execute_input": "2024-08-24T06:56:18.142241Z",
          "iopub.status.idle": "2024-08-24T06:56:18.151158Z",
          "shell.execute_reply.started": "2024-08-24T06:56:18.142192Z",
          "shell.execute_reply": "2024-08-24T06:56:18.150112Z"
        },
        "trusted": true,
        "id": "DbiqVXnV4HdJ",
        "outputId": "9b313522-7cf0-4a9e-8081-7cca27e99a75"
      },
      "execution_count": null,
      "outputs": [
        {
          "execution_count": 27,
          "output_type": "execute_result",
          "data": {
            "text/plain": "array([False, False, False, False, False])"
          },
          "metadata": {}
        }
      ]
    },
    {
      "cell_type": "code",
      "source": [
        "a[ a>= 13.5]"
      ],
      "metadata": {
        "execution": {
          "iopub.status.busy": "2024-08-24T06:56:18.154524Z",
          "iopub.execute_input": "2024-08-24T06:56:18.155276Z",
          "iopub.status.idle": "2024-08-24T06:56:18.162267Z",
          "shell.execute_reply.started": "2024-08-24T06:56:18.155234Z",
          "shell.execute_reply": "2024-08-24T06:56:18.161218Z"
        },
        "trusted": true,
        "id": "ASr6MivN4HdJ",
        "outputId": "33baca55-7855-4369-8737-f0942a722fb0"
      },
      "execution_count": null,
      "outputs": [
        {
          "execution_count": 28,
          "output_type": "execute_result",
          "data": {
            "text/plain": "array([14, 15, 16])"
          },
          "metadata": {}
        }
      ]
    },
    {
      "cell_type": "markdown",
      "source": [
        "### Summarizing operations"
      ],
      "metadata": {
        "id": "M6Kydfxq4HdJ"
      }
    },
    {
      "cell_type": "code",
      "source": [
        "b.min()"
      ],
      "metadata": {
        "execution": {
          "iopub.status.busy": "2024-08-24T06:56:28.006939Z",
          "iopub.execute_input": "2024-08-24T06:56:28.007343Z",
          "iopub.status.idle": "2024-08-24T06:56:28.014617Z",
          "shell.execute_reply.started": "2024-08-24T06:56:28.007306Z",
          "shell.execute_reply": "2024-08-24T06:56:28.013124Z"
        },
        "trusted": true,
        "id": "aGlAOVHX4HdK",
        "outputId": "b427bd5f-07ae-452d-e825-62b16a56412e"
      },
      "execution_count": null,
      "outputs": [
        {
          "execution_count": 30,
          "output_type": "execute_result",
          "data": {
            "text/plain": "0"
          },
          "metadata": {}
        }
      ]
    },
    {
      "cell_type": "code",
      "source": [
        "a.std()"
      ],
      "metadata": {
        "execution": {
          "iopub.status.busy": "2024-08-24T06:56:36.766126Z",
          "iopub.execute_input": "2024-08-24T06:56:36.766649Z",
          "iopub.status.idle": "2024-08-24T06:56:36.777204Z",
          "shell.execute_reply.started": "2024-08-24T06:56:36.766585Z",
          "shell.execute_reply": "2024-08-24T06:56:36.775724Z"
        },
        "trusted": true,
        "id": "h4VLr2q84HdK",
        "outputId": "3ec5517d-e1af-47c7-b947-9fd4b2afbadc"
      },
      "execution_count": null,
      "outputs": [
        {
          "execution_count": 31,
          "output_type": "execute_result",
          "data": {
            "text/plain": "1.4142135623730951"
          },
          "metadata": {}
        }
      ]
    },
    {
      "cell_type": "code",
      "source": [],
      "metadata": {
        "id": "KoW-AcRa4HdK"
      },
      "execution_count": null,
      "outputs": []
    }
  ]
}